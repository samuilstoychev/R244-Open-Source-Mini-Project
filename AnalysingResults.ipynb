{
 "cells": [
  {
   "cell_type": "code",
   "execution_count": null,
   "metadata": {},
   "outputs": [],
   "source": [
    "from ax.service.ax_client import AxClient\n",
    "from ax.utils.notebook.plotting import render\n",
    "\n",
    "import matplotlib.pyplot as plt\n",
    "\n",
    "import pickle"
   ]
  },
  {
   "cell_type": "markdown",
   "metadata": {},
   "source": [
    "# Load results \n",
    "* BO without any constraint --> `results/baseline_1601.json`\n",
    "* BO with OC --> `results/outconst_1601.json`\n",
    "* BO with ReturnInf --> `results/returninf_1601.json`\n",
    "* BO with ReturnInf and OC --> `results/returninf_1601_with_oc.json`\n",
    "* BO with LinearComb --> `results/lin_comb_1601.json` and `results/lin_comb_1601_second_run.json`\n",
    "* BO with LinearComb and OC --> ___\n",
    "\n",
    "\n",
    "* Random search --> `results/random_search_results_1701.pickle`\n",
    "* Grid search --> `results/grid_search_results_1601.pickle`"
   ]
  },
  {
   "cell_type": "code",
   "execution_count": null,
   "metadata": {},
   "outputs": [],
   "source": [
    "bo_no_constraint = AxClient.load_from_json_file(\"results/baseline_1601.json\")"
   ]
  },
  {
   "cell_type": "code",
   "execution_count": null,
   "metadata": {},
   "outputs": [],
   "source": [
    "bo_oc = AxClient.load_from_json_file(\"results/outconst_1601.json\")"
   ]
  },
  {
   "cell_type": "code",
   "execution_count": null,
   "metadata": {},
   "outputs": [],
   "source": [
    "bo_ri = AxClient.load_from_json_file(\"results/returninf_1601.json\")"
   ]
  },
  {
   "cell_type": "code",
   "execution_count": null,
   "metadata": {},
   "outputs": [],
   "source": [
    "bo_ri_oc = AxClient.load_from_json_file(\"results/returninf_1601_with_oc.json\")"
   ]
  },
  {
   "cell_type": "code",
   "execution_count": null,
   "metadata": {},
   "outputs": [],
   "source": [
    "bo_lc = AxClient.load_from_json_file(\"results/lin_comb_1601.json\")"
   ]
  },
  {
   "cell_type": "code",
   "execution_count": null,
   "metadata": {},
   "outputs": [],
   "source": [
    "bo_lc_second = AxClient.load_from_json_file(\"results/lin_comb_1601_second_run.json\")"
   ]
  },
  {
   "cell_type": "code",
   "execution_count": null,
   "metadata": {},
   "outputs": [],
   "source": [
    "with open('results/random_search_results_1701.pickle', 'rb') as file:\n",
    "    random_search = pickle.load(file)"
   ]
  },
  {
   "cell_type": "code",
   "execution_count": null,
   "metadata": {},
   "outputs": [],
   "source": [
    "with open('results/grid_search_results_1601.pickle', 'rb') as file:\n",
    "    grid_search = pickle.load(file)"
   ]
  },
  {
   "cell_type": "markdown",
   "metadata": {},
   "source": [
    "# Plot convergence "
   ]
  },
  {
   "cell_type": "code",
   "execution_count": null,
   "metadata": {},
   "outputs": [],
   "source": [
    "BASELINE_SIZE = 78172\n",
    "\n",
    "def get_convergence(ax_client, lin_comb=False): \n",
    "    samples = ax_client.get_trials_data_frame().values\n",
    "    \n",
    "    min_sizes = [] \n",
    "    current_min_size = BASELINE_SIZE\n",
    "    \n",
    "    for sample in samples: \n",
    "        acc = sample[0]\n",
    "        if not lin_comb: \n",
    "            size = sample[1]\n",
    "        else: \n",
    "            size = sample[2]\n",
    "        \n",
    "        if acc < 0.95: \n",
    "            min_sizes.append(current_min_size)\n",
    "        else: \n",
    "            current_min_size = min(current_min_size, size)\n",
    "            min_sizes.append(current_min_size)\n",
    "    return min_sizes"
   ]
  },
  {
   "cell_type": "code",
   "execution_count": null,
   "metadata": {},
   "outputs": [],
   "source": [
    "def plot_convergences(ax_clients, lin_comb=False): \n",
    "    plt.figure(figsize=(15,6))\n",
    "    for (name, ax_client) in ax_clients: \n",
    "        plt.plot(get_convergence(ax_client, lin_comb), label=name)\n"
   ]
  },
  {
   "cell_type": "code",
   "execution_count": null,
   "metadata": {},
   "outputs": [],
   "source": [
    "def plot_convergence(ax_client, lin_comb=False): \n",
    "\n",
    "    plt.figure(figsize=(15,6))\n",
    "    plt.plot(get_convergence(ax_client, lin_comb))\n",
    "    plt.show()"
   ]
  },
  {
   "cell_type": "markdown",
   "metadata": {},
   "source": [
    "# Convergence graph"
   ]
  },
  {
   "cell_type": "code",
   "execution_count": null,
   "metadata": {},
   "outputs": [],
   "source": [
    "random_bests = []\n",
    "current_best = random_search[0][1][\"size\"][0]\n",
    "params_bests = []\n",
    "params_current_best = random_search[0][0]\n",
    "acc_bests = [] \n",
    "acc_current_best = random_search[0][1][\"accuracy\"][0]\n",
    "\n",
    "for par, metrics in random_search: \n",
    "    \n",
    "    acc = metrics[\"accuracy\"][0]\n",
    "    size = metrics[\"size\"][0]\n",
    "    \n",
    "    if acc < 0.95: \n",
    "        params_bests.append(params_current_best)\n",
    "        acc_bests.append(acc_current_best)\n",
    "        random_bests.append(current_best)\n",
    "    elif size < current_best: \n",
    "        params_current_best = par\n",
    "        params_bests.append(par) \n",
    "        acc_current_best = acc\n",
    "        acc_bests.append(acc)\n",
    "        current_best = size\n",
    "        random_bests.append(size)\n",
    "    else: \n",
    "        params_bests.append(params_current_best) \n",
    "        acc_bests.append(acc_current_best)\n",
    "        random_bests.append(current_best)"
   ]
  },
  {
   "cell_type": "code",
   "execution_count": null,
   "metadata": {},
   "outputs": [],
   "source": [
    "GRID_MIN = min(filter(lambda x: x[1][\"accuracy\"][0] >= 0.95, grid_search), key=lambda x: x[1][\"size\"][0])"
   ]
  },
  {
   "cell_type": "code",
   "execution_count": null,
   "metadata": {},
   "outputs": [],
   "source": [
    "plt.rcParams[\"font.size\"] = \"13\""
   ]
  },
  {
   "cell_type": "code",
   "execution_count": null,
   "metadata": {},
   "outputs": [],
   "source": [
    "plt.figure(figsize=(15,6))\n",
    "# plt.plot(get_convergence(bo_no_constraint), label=\"Baseline BO\", linewidth=2)\n",
    "plt.plot(get_convergence(bo_oc), label=\"BO with Outcome Constraint\", linewidth=2)\n",
    "plt.plot(get_convergence(bo_ri_oc), label=\"BO with Return Baseline\", linewidth=2)\n",
    "plt.plot(get_convergence(bo_lc_second, True), label=\"BO with Linear Combination\", linewidth=2)\n",
    "plt.plot(random_bests[:50], label=\"Random Search\", linewidth=2)\n",
    "plt.axhline(GRID_MIN[1][\"size\"][0], linestyle=\"--\", color=\"black\", \n",
    "            label=\"Best value found by Grid Search\", linewidth=2)\n",
    "\n",
    "\n",
    "plt.ylim((5500,10000))\n",
    "plt.xlabel(\"Number of iterations\")\n",
    "plt.ylabel(\"Best valid model size (bytes)\")\n",
    "# plt.yscale('log') \n",
    "plt.legend()\n",
    "plt.savefig(\"graphs/convergence.svg\")\n",
    "plt.show()"
   ]
  },
  {
   "cell_type": "code",
   "execution_count": null,
   "metadata": {},
   "outputs": [],
   "source": [
    "plot_convergences([(\"no constraint\", bo_no_constraint), (\"ret inf\", bo_ri)])\n",
    "plt.plot(get_convergence(bo_lc_second))"
   ]
  },
  {
   "cell_type": "code",
   "execution_count": null,
   "metadata": {},
   "outputs": [],
   "source": []
  },
  {
   "cell_type": "code",
   "execution_count": null,
   "metadata": {},
   "outputs": [],
   "source": [
    "plot_convergence(bo_no_constraint)"
   ]
  },
  {
   "cell_type": "code",
   "execution_count": null,
   "metadata": {},
   "outputs": [],
   "source": [
    "plot_convergence(bo_oc)"
   ]
  },
  {
   "cell_type": "code",
   "execution_count": null,
   "metadata": {},
   "outputs": [],
   "source": [
    "plot_convergence(bo_ri)"
   ]
  },
  {
   "cell_type": "code",
   "execution_count": null,
   "metadata": {},
   "outputs": [],
   "source": [
    "plot_convergence(bo_ri_oc)"
   ]
  },
  {
   "cell_type": "code",
   "execution_count": null,
   "metadata": {},
   "outputs": [],
   "source": [
    "plot_convergence(bo_lc, True)"
   ]
  },
  {
   "cell_type": "code",
   "execution_count": null,
   "metadata": {},
   "outputs": [],
   "source": [
    "plot_convergence(bo_lc_second, True)"
   ]
  },
  {
   "cell_type": "code",
   "execution_count": null,
   "metadata": {},
   "outputs": [],
   "source": [
    "plt.plot(get_convergence(bo_lc))\n",
    "plt.plot(get_convergence(bo_lc_second))"
   ]
  },
  {
   "cell_type": "code",
   "execution_count": null,
   "metadata": {},
   "outputs": [],
   "source": [
    "bo_lc_second.get_best_parameters()"
   ]
  },
  {
   "cell_type": "code",
   "execution_count": null,
   "metadata": {},
   "outputs": [],
   "source": []
  },
  {
   "cell_type": "code",
   "execution_count": null,
   "metadata": {},
   "outputs": [],
   "source": [
    "bo_lc_second.get_trials_data_frame()."
   ]
  },
  {
   "cell_type": "code",
   "execution_count": null,
   "metadata": {},
   "outputs": [],
   "source": []
  },
  {
   "cell_type": "code",
   "execution_count": null,
   "metadata": {},
   "outputs": [],
   "source": []
  },
  {
   "cell_type": "code",
   "execution_count": null,
   "metadata": {},
   "outputs": [],
   "source": [
    "plt.figure(figsize=(15,6))\n",
    "plt.plot(x, get_convergence(bo_oc))\n",
    "x = range(1, len(get_convergence(bo_oc)) + 1)\n",
    "plt.errorbar(x, get_convergence(bo_oc), get_size_sem(bo_oc))"
   ]
  },
  {
   "cell_type": "code",
   "execution_count": null,
   "metadata": {},
   "outputs": [],
   "source": [
    "bo_oc.get_optimization_trace()"
   ]
  },
  {
   "cell_type": "code",
   "execution_count": null,
   "metadata": {},
   "outputs": [],
   "source": [
    "bo_oc.experiment.trials[1]"
   ]
  },
  {
   "cell_type": "code",
   "execution_count": null,
   "metadata": {},
   "outputs": [],
   "source": []
  },
  {
   "cell_type": "code",
   "execution_count": null,
   "metadata": {},
   "outputs": [],
   "source": []
  },
  {
   "cell_type": "code",
   "execution_count": null,
   "metadata": {},
   "outputs": [],
   "source": []
  },
  {
   "cell_type": "code",
   "execution_count": null,
   "metadata": {},
   "outputs": [],
   "source": []
  },
  {
   "cell_type": "code",
   "execution_count": null,
   "metadata": {},
   "outputs": [],
   "source": [
    "bo_oc.get_trials_data_frame()"
   ]
  },
  {
   "cell_type": "code",
   "execution_count": null,
   "metadata": {},
   "outputs": [],
   "source": []
  },
  {
   "cell_type": "code",
   "execution_count": null,
   "metadata": {},
   "outputs": [],
   "source": [
    "def get_size_sem(ax_client): \n",
    "    # Note: get only the 'size' metric -> hence, [::2]\n",
    "    samples = ax_client.experiment.fetch_data().df.values[::2]\n",
    "    return [x[3] for x in samples]"
   ]
  },
  {
   "cell_type": "code",
   "execution_count": null,
   "metadata": {},
   "outputs": [],
   "source": [
    "def get_size_means(ax_client): \n",
    "    # Note: get only the 'size' metric -> hence, [::2]\n",
    "    samples = ax_client.experiment.fetch_data().df.values[::2]\n",
    "    return [x[3] for x in samples]"
   ]
  },
  {
   "cell_type": "code",
   "execution_count": null,
   "metadata": {},
   "outputs": [],
   "source": [
    "bo_oc.experiment.fetch_data().df.values[::2][:3]"
   ]
  },
  {
   "cell_type": "code",
   "execution_count": null,
   "metadata": {},
   "outputs": [],
   "source": [
    "bo_oc.experiment.fetch_data().df.values[1::2][:3]"
   ]
  },
  {
   "cell_type": "code",
   "execution_count": null,
   "metadata": {},
   "outputs": [],
   "source": []
  },
  {
   "cell_type": "code",
   "execution_count": null,
   "metadata": {},
   "outputs": [],
   "source": []
  },
  {
   "cell_type": "code",
   "execution_count": null,
   "metadata": {},
   "outputs": [],
   "source": [
    "def get_metrics(ax_client): \n",
    "    sizes = ax_client.experiment.fetch_data().df.values[::2]\n",
    "    accuracies = ax_client.experiment.fetch_data().df.values[1::2]\n",
    "    \n",
    "    return list(zip([x[2] for x in sizes], [x[3] for x in sizes], [x[2] for x in accuracies]))"
   ]
  },
  {
   "cell_type": "code",
   "execution_count": null,
   "metadata": {},
   "outputs": [],
   "source": [
    "metrics = get_metrics(bo_oc)"
   ]
  },
  {
   "cell_type": "code",
   "execution_count": null,
   "metadata": {},
   "outputs": [],
   "source": []
  },
  {
   "cell_type": "code",
   "execution_count": null,
   "metadata": {},
   "outputs": [],
   "source": [
    "metrics[0]"
   ]
  },
  {
   "cell_type": "code",
   "execution_count": null,
   "metadata": {},
   "outputs": [],
   "source": [
    "plot_vals = []\n",
    "plot_errs = [] \n",
    "\n",
    "current_best = metrics[0][0]\n",
    "current_err = metrics[0][1]\n",
    "\n",
    "for (size, err, acc) in metrics: \n",
    "    if acc >= 0.95 and size < current_best:\n",
    "        current_best = size \n",
    "        current_err = err \n",
    "    plot_vals.append(current_best)\n",
    "    plot_errs.append(current_err)\n"
   ]
  },
  {
   "cell_type": "code",
   "execution_count": null,
   "metadata": {},
   "outputs": [],
   "source": [
    "xs = list(range(len(plot_vals)))\n",
    "\n",
    "plt.figure(figsize=(10,10))\n",
    "plt.plot(xs, plot_vals)\n",
    "plt.errorbar(xs, plot_vals, yerr=plot_errs)"
   ]
  },
  {
   "cell_type": "code",
   "execution_count": null,
   "metadata": {},
   "outputs": [],
   "source": [
    "list(filter(lambda x: x[2] > 0.95, metrics))"
   ]
  },
  {
   "cell_type": "code",
   "execution_count": null,
   "metadata": {},
   "outputs": [],
   "source": []
  },
  {
   "cell_type": "code",
   "execution_count": null,
   "metadata": {},
   "outputs": [],
   "source": []
  },
  {
   "cell_type": "code",
   "execution_count": null,
   "metadata": {},
   "outputs": [],
   "source": []
  },
  {
   "cell_type": "code",
   "execution_count": null,
   "metadata": {},
   "outputs": [],
   "source": []
  },
  {
   "cell_type": "code",
   "execution_count": null,
   "metadata": {},
   "outputs": [],
   "source": []
  },
  {
   "cell_type": "code",
   "execution_count": null,
   "metadata": {},
   "outputs": [],
   "source": [
    "def plot_samples(ax_client):\n",
    "    res = ax_client.get_trials_data_frame()\n",
    "    acc = res[\"accuracy\"]\n",
    "    siz = res[\"size\"]\n",
    "    \n",
    "    plt.scatter(acc, siz)\n",
    "    plt.axvline(x=0.95, color=\"red\")\n",
    "    plt.xlim(0, 1)\n",
    "    plt.ylim(0, 15000)\n",
    "    \n",
    "#     fig, ax = plt.subplots()\n",
    "#     ax.scatter(acc, siz)\n",
    "    \n",
    "#     n = list(range(1,len(siz) + 1))\n",
    "\n",
    "#     for i, txt in enumerate(n):\n",
    "#         ax.annotate(txt, (acc[i], siz[i]))\n",
    "\n",
    "#     ax.axvline(x=0.95)"
   ]
  },
  {
   "cell_type": "code",
   "execution_count": null,
   "metadata": {},
   "outputs": [],
   "source": [
    "plot_samples(bo_no_constraint)"
   ]
  },
  {
   "cell_type": "code",
   "execution_count": null,
   "metadata": {},
   "outputs": [],
   "source": [
    "plot_samples(bo_oc)"
   ]
  },
  {
   "cell_type": "code",
   "execution_count": null,
   "metadata": {},
   "outputs": [],
   "source": [
    "plot_samples(bo_ri)"
   ]
  },
  {
   "cell_type": "code",
   "execution_count": null,
   "metadata": {},
   "outputs": [],
   "source": [
    "plot_samples(bo_ri_oc)"
   ]
  },
  {
   "cell_type": "code",
   "execution_count": null,
   "metadata": {},
   "outputs": [],
   "source": [
    "plot_samples(bo_lc)"
   ]
  },
  {
   "cell_type": "code",
   "execution_count": null,
   "metadata": {},
   "outputs": [],
   "source": [
    "plot_samples(bo_lc_second)"
   ]
  },
  {
   "cell_type": "code",
   "execution_count": null,
   "metadata": {},
   "outputs": [],
   "source": [
    "random_sizs = [x[1][\"size\"][0] for x in random_search]\n",
    "random_accs = [x[1][\"accuracy\"][0] for x in random_search]"
   ]
  },
  {
   "cell_type": "code",
   "execution_count": null,
   "metadata": {},
   "outputs": [],
   "source": []
  }
 ],
 "metadata": {
  "kernelspec": {
   "display_name": "Python 3",
   "language": "python",
   "name": "python3"
  },
  "language_info": {
   "codemirror_mode": {
    "name": "ipython",
    "version": 3
   },
   "file_extension": ".py",
   "mimetype": "text/x-python",
   "name": "python",
   "nbconvert_exporter": "python",
   "pygments_lexer": "ipython3",
   "version": "3.7.4"
  }
 },
 "nbformat": 4,
 "nbformat_minor": 2
}
